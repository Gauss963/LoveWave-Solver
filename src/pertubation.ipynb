{
 "cells": [
  {
   "cell_type": "code",
   "execution_count": 1,
   "metadata": {},
   "outputs": [],
   "source": [
    "import numpy as np"
   ]
  },
  {
   "cell_type": "code",
   "execution_count": 2,
   "metadata": {},
   "outputs": [],
   "source": [
    "m = np.array([3000, 5000])\n",
    "frequencies    = np.array([0.1, 0.2, 0.3, 0.4, 0.6])\n",
    "c_Observation  = np.array([3721, 3191, 3087, 3050, 3023])\n",
    "\n",
    "\n",
    "c_Theoretical           = np.array([3719.56, 3189.99, 3086.18, 3049.19, 3022.27])\n",
    "delta_c                 = c_Observation - c_Theoretical\n",
    "c_Theoretical_pertub_b1 = (np.array([ 3732.75, 3201.52, 3096.93, 3059.63, 3032.47 ]) - c_Theoretical ) / 10.0\n",
    "c_Theoretical_pertub_b2 = (np.array([ 3721.64, 3190.19, 3086.23, 3049.21, 3022.27 ]) - c_Theoretical ) / 10.0"
   ]
  },
  {
   "cell_type": "code",
   "execution_count": 3,
   "metadata": {},
   "outputs": [],
   "source": [
    "G = np.column_stack((c_Theoretical_pertub_b1, c_Theoretical_pertub_b2))\n",
    "GT = np.transpose(G)\n",
    "GTG = np.matmul ( GT, G)\n",
    "GTG_inv = np.linalg.inv(GTG)"
   ]
  },
  {
   "cell_type": "code",
   "execution_count": 4,
   "metadata": {},
   "outputs": [],
   "source": [
    "delta_m_hat = np.matmul( np.matmul(GTG_inv, GT), delta_c)\n",
    "m_hat = m + delta_m_hat"
   ]
  },
  {
   "cell_type": "code",
   "execution_count": 5,
   "metadata": {},
   "outputs": [
    {
     "name": "stdout",
     "output_type": "stream",
     "text": [
      "[3000 5000]\n",
      "[3000.77222363 5002.06001695]\n",
      "[0.77222363 2.06001695]\n"
     ]
    }
   ],
   "source": [
    "print(m)\n",
    "print(m_hat)\n",
    "print(delta_m_hat)"
   ]
  }
 ],
 "metadata": {
  "kernelspec": {
   "display_name": "base",
   "language": "python",
   "name": "python3"
  },
  "language_info": {
   "codemirror_mode": {
    "name": "ipython",
    "version": 3
   },
   "file_extension": ".py",
   "mimetype": "text/x-python",
   "name": "python",
   "nbconvert_exporter": "python",
   "pygments_lexer": "ipython3",
   "version": "3.12.9"
  }
 },
 "nbformat": 4,
 "nbformat_minor": 2
}
